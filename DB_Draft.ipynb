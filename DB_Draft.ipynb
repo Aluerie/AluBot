{
 "cells": [
  {
   "cell_type": "markdown",
   "id": "cf42b65d-177d-4e75-bbd2-883989c4ec78",
   "metadata": {},
   "source": [
    "### Run the copy of our database functions"
   ]
  },
  {
   "cell_type": "code",
   "execution_count": null,
   "id": "a30c20f7-2e49-49e2-9b9a-5a93cb3fb9b1",
   "metadata": {},
   "outputs": [
    {
     "name": "stdout",
     "output_type": "stream",
     "text": [
      "The autoreload extension is already loaded. To reload it, use:\n",
      "  %reload_ext autoreload\n"
     ]
    }
   ],
   "source": [
    "%load_ext autoreload\n",
    "%autoreload 2"
   ]
  },
  {
   "cell_type": "markdown",
   "id": "078ca8c6-86b1-42ca-93e8-0a2f8ad203b6",
   "metadata": {},
   "source": [
    "| biginteger type of id      | autoincrement type of id |\n",
    "| ----------- | ----------- |\n",
    "| <pre>m = DiscordUser<br>e = DiscordEmote<br>g = DiscordGuilds<br>l = LeagueAccount<br>d = DotaAccount<br>a = AFKNote<br>s = mygamerdata</pre>      | <pre>r = RemindersNote<br>t = ToDoNote<br>w = WarningData<br>u = MuteData<br>c = ChannelsAssignmentData<br>sr = serverrules<br>rr = realrule<br>stg = tagsdb</pre>          |"
   ]
  },
  {
   "cell_type": "code",
   "execution_count": 2,
   "id": "022c28aa-ac8d-4d0e-b88e-c69a5e7b1c94",
   "metadata": {},
   "outputs": [],
   "source": [
    "# %run ./utils/database.py\n",
    "from utils import database as db\n",
    "import pandas as pd\n",
    "def get_df(dbclass):\n",
    "    return pd.read_sql_table(dbclass.__tablename__, db.engine, index_col='id')"
   ]
  },
  {
   "cell_type": "code",
   "execution_count": null,
   "id": "306c55c3-18f6-4bbc-8a86-05bbfc97cd40",
   "metadata": {},
   "outputs": [],
   "source": []
  },
  {
   "cell_type": "code",
   "execution_count": null,
   "id": "2fa2b6c4-d4f3-44c0-9867-934ce9f4b1ae",
   "metadata": {},
   "outputs": [],
   "source": []
  },
  {
   "cell_type": "markdown",
   "id": "57144734-57ff-4a17-b115-9546ef0f3102",
   "metadata": {},
   "source": [
    "### Now our draft things"
   ]
  },
  {
   "cell_type": "code",
   "execution_count": 86,
   "id": "386b5905-29f4-4886-a481-50f7f516e733",
   "metadata": {
    "tags": []
   },
   "outputs": [
    {
     "data": {
      "text/html": [
       "<div>\n",
       "<style scoped>\n",
       "    .dataframe tbody tr th:only-of-type {\n",
       "        vertical-align: middle;\n",
       "    }\n",
       "\n",
       "    .dataframe tbody tr th {\n",
       "        vertical-align: top;\n",
       "    }\n",
       "\n",
       "    .dataframe thead th {\n",
       "        text-align: right;\n",
       "    }\n",
       "</style>\n",
       "<table border=\"1\" class=\"dataframe\">\n",
       "  <thead>\n",
       "    <tr style=\"text-align: right;\">\n",
       "      <th></th>\n",
       "      <th>inlvl</th>\n",
       "      <th>exp</th>\n",
       "      <th>cur</th>\n",
       "      <th>rep</th>\n",
       "      <th>timezone</th>\n",
       "      <th>bdate</th>\n",
       "      <th>msg_count</th>\n",
       "      <th>lastseen</th>\n",
       "      <th>name</th>\n",
       "      <th>can_make_tags</th>\n",
       "    </tr>\n",
       "    <tr>\n",
       "      <th>id</th>\n",
       "      <th></th>\n",
       "      <th></th>\n",
       "      <th></th>\n",
       "      <th></th>\n",
       "      <th></th>\n",
       "      <th></th>\n",
       "      <th></th>\n",
       "      <th></th>\n",
       "      <th></th>\n",
       "      <th></th>\n",
       "    </tr>\n",
       "  </thead>\n",
       "  <tbody>\n",
       "    <tr>\n",
       "      <th>106519402735755264</th>\n",
       "      <td>1</td>\n",
       "      <td>11</td>\n",
       "      <td>0</td>\n",
       "      <td>0</td>\n",
       "      <td>0.0</td>\n",
       "      <td>NaT</td>\n",
       "      <td>74</td>\n",
       "      <td>2022-04-18 09:39:27.138420</td>\n",
       "      <td>Nami</td>\n",
       "      <td>True</td>\n",
       "    </tr>\n",
       "    <tr>\n",
       "      <th>125701430274162688</th>\n",
       "      <td>1</td>\n",
       "      <td>1</td>\n",
       "      <td>0</td>\n",
       "      <td>0</td>\n",
       "      <td>0.0</td>\n",
       "      <td>NaT</td>\n",
       "      <td>36</td>\n",
       "      <td>2022-04-18 09:39:27.138420</td>\n",
       "      <td>2hu</td>\n",
       "      <td>True</td>\n",
       "    </tr>\n",
       "    <tr>\n",
       "      <th>153910485425586176</th>\n",
       "      <td>1</td>\n",
       "      <td>0</td>\n",
       "      <td>0</td>\n",
       "      <td>0</td>\n",
       "      <td>0.0</td>\n",
       "      <td>NaT</td>\n",
       "      <td>0</td>\n",
       "      <td>2022-04-18 09:39:27.139422</td>\n",
       "      <td>Tyrvana</td>\n",
       "      <td>True</td>\n",
       "    </tr>\n",
       "    <tr>\n",
       "      <th>165146318954692608</th>\n",
       "      <td>1</td>\n",
       "      <td>4</td>\n",
       "      <td>0</td>\n",
       "      <td>0</td>\n",
       "      <td>0.0</td>\n",
       "      <td>NaT</td>\n",
       "      <td>0</td>\n",
       "      <td>2022-04-18 09:39:27.138420</td>\n",
       "      <td>StoneBryn</td>\n",
       "      <td>True</td>\n",
       "    </tr>\n",
       "    <tr>\n",
       "      <th>183707605032501248</th>\n",
       "      <td>1</td>\n",
       "      <td>0</td>\n",
       "      <td>0</td>\n",
       "      <td>0</td>\n",
       "      <td>0.0</td>\n",
       "      <td>NaT</td>\n",
       "      <td>0</td>\n",
       "      <td>2022-04-18 09:39:27.138420</td>\n",
       "      <td>Will</td>\n",
       "      <td>True</td>\n",
       "    </tr>\n",
       "    <tr>\n",
       "      <th>...</th>\n",
       "      <td>...</td>\n",
       "      <td>...</td>\n",
       "      <td>...</td>\n",
       "      <td>...</td>\n",
       "      <td>...</td>\n",
       "      <td>...</td>\n",
       "      <td>...</td>\n",
       "      <td>...</td>\n",
       "      <td>...</td>\n",
       "      <td>...</td>\n",
       "    </tr>\n",
       "    <tr>\n",
       "      <th>508206739511050240</th>\n",
       "      <td>1</td>\n",
       "      <td>1974</td>\n",
       "      <td>0</td>\n",
       "      <td>0</td>\n",
       "      <td>-4.0</td>\n",
       "      <td>1900-06-22</td>\n",
       "      <td>1330</td>\n",
       "      <td>2022-04-21 00:19:24.209491</td>\n",
       "      <td>T1mbits</td>\n",
       "      <td>True</td>\n",
       "    </tr>\n",
       "    <tr>\n",
       "      <th>201308763645280258</th>\n",
       "      <td>1</td>\n",
       "      <td>274</td>\n",
       "      <td>0</td>\n",
       "      <td>0</td>\n",
       "      <td>0.0</td>\n",
       "      <td>NaT</td>\n",
       "      <td>3523</td>\n",
       "      <td>2022-05-13 17:25:07.666487</td>\n",
       "      <td>WAKE ME</td>\n",
       "      <td>True</td>\n",
       "    </tr>\n",
       "    <tr>\n",
       "      <th>88271000176726016</th>\n",
       "      <td>1</td>\n",
       "      <td>1484</td>\n",
       "      <td>0</td>\n",
       "      <td>7</td>\n",
       "      <td>0.0</td>\n",
       "      <td>NaT</td>\n",
       "      <td>3760</td>\n",
       "      <td>2022-04-18 09:39:27.139422</td>\n",
       "      <td>rerz</td>\n",
       "      <td>True</td>\n",
       "    </tr>\n",
       "    <tr>\n",
       "      <th>301776664441126923</th>\n",
       "      <td>1</td>\n",
       "      <td>789</td>\n",
       "      <td>0</td>\n",
       "      <td>5</td>\n",
       "      <td>5.5</td>\n",
       "      <td>1999-10-19</td>\n",
       "      <td>2568</td>\n",
       "      <td>2022-05-04 14:50:31.390600</td>\n",
       "      <td>🌸StoneNir🌸</td>\n",
       "      <td>True</td>\n",
       "    </tr>\n",
       "    <tr>\n",
       "      <th>209186914119450634</th>\n",
       "      <td>1</td>\n",
       "      <td>72</td>\n",
       "      <td>0</td>\n",
       "      <td>0</td>\n",
       "      <td>0.0</td>\n",
       "      <td>NaT</td>\n",
       "      <td>155</td>\n",
       "      <td>2022-04-18 09:39:27.139422</td>\n",
       "      <td>KamiTsune</td>\n",
       "      <td>True</td>\n",
       "    </tr>\n",
       "  </tbody>\n",
       "</table>\n",
       "<p>71 rows × 10 columns</p>\n",
       "</div>"
      ],
      "text/plain": [
       "                    inlvl   exp  cur  rep  timezone      bdate  msg_count  \\\n",
       "id                                                                          \n",
       "106519402735755264      1    11    0    0       0.0        NaT         74   \n",
       "125701430274162688      1     1    0    0       0.0        NaT         36   \n",
       "153910485425586176      1     0    0    0       0.0        NaT          0   \n",
       "165146318954692608      1     4    0    0       0.0        NaT          0   \n",
       "183707605032501248      1     0    0    0       0.0        NaT          0   \n",
       "...                   ...   ...  ...  ...       ...        ...        ...   \n",
       "508206739511050240      1  1974    0    0      -4.0 1900-06-22       1330   \n",
       "201308763645280258      1   274    0    0       0.0        NaT       3523   \n",
       "88271000176726016       1  1484    0    7       0.0        NaT       3760   \n",
       "301776664441126923      1   789    0    5       5.5 1999-10-19       2568   \n",
       "209186914119450634      1    72    0    0       0.0        NaT        155   \n",
       "\n",
       "                                     lastseen        name  can_make_tags  \n",
       "id                                                                        \n",
       "106519402735755264 2022-04-18 09:39:27.138420        Nami           True  \n",
       "125701430274162688 2022-04-18 09:39:27.138420         2hu           True  \n",
       "153910485425586176 2022-04-18 09:39:27.139422     Tyrvana           True  \n",
       "165146318954692608 2022-04-18 09:39:27.138420   StoneBryn           True  \n",
       "183707605032501248 2022-04-18 09:39:27.138420        Will           True  \n",
       "...                                       ...         ...            ...  \n",
       "508206739511050240 2022-04-21 00:19:24.209491     T1mbits           True  \n",
       "201308763645280258 2022-05-13 17:25:07.666487     WAKE ME           True  \n",
       "88271000176726016  2022-04-18 09:39:27.139422        rerz           True  \n",
       "301776664441126923 2022-05-04 14:50:31.390600  🌸StoneNir🌸           True  \n",
       "209186914119450634 2022-04-18 09:39:27.139422   KamiTsune           True  \n",
       "\n",
       "[71 rows x 10 columns]"
      ]
     },
     "execution_count": 86,
     "metadata": {},
     "output_type": "execute_result"
    }
   ],
   "source": [
    "df = get_df(db.m)\n",
    "df"
   ]
  },
  {
   "cell_type": "code",
   "execution_count": 6,
   "id": "5c432e06-4056-45d7-87ce-ebeff87ef0a1",
   "metadata": {},
   "outputs": [
    {
     "name": "stdout",
     "output_type": "stream",
     "text": [
      "1\n"
     ]
    }
   ],
   "source": [
    "print(sum(get_value(e, 869827100926951465, 'month_array')))"
   ]
  },
  {
   "cell_type": "code",
   "execution_count": null,
   "id": "a23b73fb-bc7a-4885-9bda-cec65a334c23",
   "metadata": {},
   "outputs": [],
   "source": [
    "\"\"\"\n",
    "for index, row in df.iterrows():\n",
    "    value = get_value(e, index, 'month_array')\n",
    "    df.loc[index, 'month_array'] = value\n",
    "\"\"\""
   ]
  },
  {
   "cell_type": "code",
   "execution_count": 7,
   "id": "b8757b07-37a0-4576-8267-cfd7a88a141f",
   "metadata": {},
   "outputs": [],
   "source": [
    "remove_row(e, 869827100926951465)"
   ]
  },
  {
   "cell_type": "code",
   "execution_count": 5,
   "id": "7a892c12-266b-492d-b9ad-7da2906e2d5d",
   "metadata": {},
   "outputs": [],
   "source": [
    "with db.session_scope() as ses:\n",
    "    for row in ses.query(db.sr):\n",
    "        row.id = 0"
   ]
  },
  {
   "cell_type": "code",
   "execution_count": 2,
   "id": "923e3c27-8f0a-4e56-851e-b1a402a99199",
   "metadata": {
    "tags": []
   },
   "outputs": [],
   "source": [
    "db.tg.__table__.drop(db.engine)"
   ]
  },
  {
   "cell_type": "code",
   "execution_count": 5,
   "id": "f3a39c67-b1ba-44d3-a1fb-2f90e0351cbb",
   "metadata": {
    "tags": []
   },
   "outputs": [],
   "source": [
    "def add_column(enginex, table_name, columnx):\n",
    "    column_name = columnx.compile(dialect=enginex.dialect)\n",
    "    column_type = columnx.type.compile(enginex.dialect)\n",
    "    #column_default = column.default.arg\n",
    "    enginex.execute(f'ALTER TABLE \"{table_name}\" ADD COLUMN {column_name} {column_type}') #DEFAULT #{column_default}')\n",
    "\n",
    "column = db.Column('can_make_tags', db.Boolean, default=True)\n",
    "add_column(db.engine, 'GuildMembers', column)"
   ]
  },
  {
   "cell_type": "code",
   "execution_count": null,
   "id": "b5f20316-22e8-453a-b611-2a5fe91c6c5c",
   "metadata": {},
   "outputs": [],
   "source": []
  },
  {
   "cell_type": "code",
   "execution_count": 11,
   "id": "522047e2-b6c7-40e9-ac97-6e9af61a6513",
   "metadata": {},
   "outputs": [],
   "source": [
    "def drop_column(enginex, table_name, column_name):\n",
    "    enginex.execute(f'ALTER TABLE \"{table_name}\" DROP COLUMN {column_name}')\n",
    "\n",
    "drop_column(engine, 'GuildMembers', 'name')"
   ]
  },
  {
   "cell_type": "code",
   "execution_count": null,
   "id": "f8336468-ff62-44a3-8444-13a5bcfcc2dc",
   "metadata": {},
   "outputs": [],
   "source": []
  },
  {
   "cell_type": "code",
   "execution_count": null,
   "id": "92fc8e8c-272e-4fc8-b6f4-c35b4afb244d",
   "metadata": {
    "tags": []
   },
   "outputs": [],
   "source": [
    "# options to see the whole table \n",
    "pd.set_option('display.max_rows', None)\n",
    "pd.set_option('display.max_columns', None)\n",
    "pd.set_option('display.width', None)\n",
    "pd.set_option('display.max_colwidth', None)"
   ]
  },
  {
   "cell_type": "code",
   "execution_count": null,
   "id": "190f3dd2-1a0e-4f7f-9fce-16960b2e2e5d",
   "metadata": {},
   "outputs": [],
   "source": [
    "# option to reset these things\n",
    "pd.reset_option('display.max_rows')\n",
    "pd.reset_option('display.max_columns')\n",
    "pd.reset_option('display.width')\n",
    "pd.reset_option('display.max_colwidth')"
   ]
  },
  {
   "cell_type": "code",
   "execution_count": null,
   "id": "b0f74bb6-96bb-4906-90c7-9dbf343e2e60",
   "metadata": {
    "tags": []
   },
   "outputs": [],
   "source": []
  },
  {
   "cell_type": "code",
   "execution_count": null,
   "id": "9eb44d93-d211-412f-b0e1-963d0356f69d",
   "metadata": {
    "tags": []
   },
   "outputs": [],
   "source": []
  },
  {
   "cell_type": "code",
   "execution_count": null,
   "id": "3aac9e5a-20ef-4543-9ac8-4ceb6749ceda",
   "metadata": {},
   "outputs": [],
   "source": []
  }
 ],
 "metadata": {
  "kernelspec": {
   "display_name": "Python 3 (ipykernel)",
   "language": "python",
   "name": "python3"
  },
  "language_info": {
   "codemirror_mode": {
    "name": "ipython",
    "version": 3
   },
   "file_extension": ".py",
   "mimetype": "text/x-python",
   "name": "python",
   "nbconvert_exporter": "python",
   "pygments_lexer": "ipython3",
   "version": "3.10.0"
  }
 },
 "nbformat": 4,
 "nbformat_minor": 5
}
