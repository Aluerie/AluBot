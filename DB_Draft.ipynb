{
 "cells": [
  {
   "cell_type": "markdown",
   "id": "cf42b65d-177d-4e75-bbd2-883989c4ec78",
   "metadata": {},
   "source": [
    "### Run the copy of our database functions"
   ]
  },
  {
   "cell_type": "code",
   "execution_count": null,
   "id": "a30c20f7-2e49-49e2-9b9a-5a93cb3fb9b1",
   "metadata": {},
   "outputs": [
    {
     "name": "stdout",
     "output_type": "stream",
     "text": [
      "The autoreload extension is already loaded. To reload it, use:\n",
      "  %reload_ext autoreload\n"
     ]
    }
   ],
   "source": [
    "%load_ext autoreload\n",
    "%autoreload 2"
   ]
  },
  {
   "cell_type": "markdown",
   "id": "078ca8c6-86b1-42ca-93e8-0a2f8ad203b6",
   "metadata": {},
   "source": [
    "| biginteger type of id      | autoincrement type of id |\n",
    "| ----------- | ----------- |\n",
    "| <pre>m = DiscordUser<br>e = DiscordEmote<br>g = DiscordGuilds<br>l = LeagueAccount<br>d = DotaAccount<br>a = AFKNote<br>s = mygamerdata</pre>      | <pre>r = RemindersNote<br>t = ToDoNote<br>w = WarningData<br>u = MuteData<br>c = ChannelsAssignmentData<br>sr = serverrules<br>rr = realrule<br>stg = tagsdb</pre>          |"
   ]
  },
  {
   "cell_type": "code",
   "execution_count": 1,
   "id": "022c28aa-ac8d-4d0e-b88e-c69a5e7b1c94",
   "metadata": {},
   "outputs": [],
   "source": [
    "# %run ./utils/database.py\n",
    "from utils import database as db\n",
    "import pandas as pd\n",
    "def get_df(dbclass):\n",
    "    return pd.read_sql_table(dbclass.__tablename__, db.engine, index_col='id')"
   ]
  },
  {
   "cell_type": "code",
   "execution_count": null,
   "id": "306c55c3-18f6-4bbc-8a86-05bbfc97cd40",
   "metadata": {},
   "outputs": [],
   "source": []
  },
  {
   "cell_type": "code",
   "execution_count": null,
   "id": "2fa2b6c4-d4f3-44c0-9867-934ce9f4b1ae",
   "metadata": {},
   "outputs": [],
   "source": []
  },
  {
   "cell_type": "markdown",
   "id": "57144734-57ff-4a17-b115-9546ef0f3102",
   "metadata": {},
   "source": [
    "### Now our draft things"
   ]
  },
  {
   "cell_type": "code",
   "execution_count": 8,
   "id": "386b5905-29f4-4886-a481-50f7f516e733",
   "metadata": {
    "tags": []
   },
   "outputs": [],
   "source": [
    "df = get_df(db.m)"
   ]
  },
  {
   "cell_type": "code",
   "execution_count": 6,
   "id": "5c432e06-4056-45d7-87ce-ebeff87ef0a1",
   "metadata": {},
   "outputs": [
    {
     "name": "stdout",
     "output_type": "stream",
     "text": [
      "1\n"
     ]
    }
   ],
   "source": [
    "print(sum(get_value(e, 869827100926951465, 'month_array')))"
   ]
  },
  {
   "cell_type": "code",
   "execution_count": null,
   "id": "a23b73fb-bc7a-4885-9bda-cec65a334c23",
   "metadata": {},
   "outputs": [],
   "source": [
    "\"\"\"\n",
    "for index, row in df.iterrows():\n",
    "    value = get_value(e, index, 'month_array')\n",
    "    df.loc[index, 'month_array'] = value\n",
    "\"\"\""
   ]
  },
  {
   "cell_type": "code",
   "execution_count": 7,
   "id": "b8757b07-37a0-4576-8267-cfd7a88a141f",
   "metadata": {},
   "outputs": [],
   "source": [
    "remove_row(e, 869827100926951465)"
   ]
  },
  {
   "cell_type": "code",
   "execution_count": 5,
   "id": "7a892c12-266b-492d-b9ad-7da2906e2d5d",
   "metadata": {},
   "outputs": [],
   "source": [
    "with db.session_scope() as ses:\n",
    "    for row in ses.query(db.sr):\n",
    "        row.id = 0"
   ]
  },
  {
   "cell_type": "code",
   "execution_count": 2,
   "id": "923e3c27-8f0a-4e56-851e-b1a402a99199",
   "metadata": {
    "tags": []
   },
   "outputs": [],
   "source": [
    "db.tg.__table__.drop(db.engine)"
   ]
  },
  {
   "cell_type": "code",
   "execution_count": 5,
   "id": "f3a39c67-b1ba-44d3-a1fb-2f90e0351cbb",
   "metadata": {
    "tags": []
   },
   "outputs": [],
   "source": [
    "def add_column(enginex, table_name, columnx):\n",
    "    column_name = columnx.compile(dialect=enginex.dialect)\n",
    "    column_type = columnx.type.compile(enginex.dialect)\n",
    "    #column_default = column.default.arg\n",
    "    enginex.execute(f'ALTER TABLE \"{table_name}\" ADD COLUMN {column_name} {column_type}') #DEFAULT #{column_default}')\n",
    "\n",
    "column = db.Column('can_make_tags', db.Boolean, default=True)\n",
    "add_column(db.engine, 'GuildMembers', column)"
   ]
  },
  {
   "cell_type": "code",
   "execution_count": null,
   "id": "b5f20316-22e8-453a-b611-2a5fe91c6c5c",
   "metadata": {},
   "outputs": [],
   "source": []
  },
  {
   "cell_type": "code",
   "execution_count": 11,
   "id": "522047e2-b6c7-40e9-ac97-6e9af61a6513",
   "metadata": {},
   "outputs": [],
   "source": [
    "def drop_column(enginex, table_name, column_name):\n",
    "    enginex.execute(f'ALTER TABLE \"{table_name}\" DROP COLUMN {column_name}')\n",
    "\n",
    "drop_column(engine, 'GuildMembers', 'name')"
   ]
  },
  {
   "cell_type": "code",
   "execution_count": null,
   "id": "f8336468-ff62-44a3-8444-13a5bcfcc2dc",
   "metadata": {},
   "outputs": [],
   "source": []
  },
  {
   "cell_type": "code",
   "execution_count": 3,
   "id": "92fc8e8c-272e-4fc8-b6f4-c35b4afb244d",
   "metadata": {
    "tags": []
   },
   "outputs": [],
   "source": [
    "# options to see the whole table \n",
    "pd.set_option('display.max_rows', None)\n",
    "pd.set_option('display.max_columns', None)\n",
    "pd.set_option('display.width', None)\n",
    "pd.set_option('display.max_colwidth', None)"
   ]
  },
  {
   "cell_type": "code",
   "execution_count": null,
   "id": "190f3dd2-1a0e-4f7f-9fce-16960b2e2e5d",
   "metadata": {},
   "outputs": [],
   "source": [
    "# option to reset these things\n",
    "pd.reset_option('display.max_rows')\n",
    "pd.reset_option('display.max_columns')\n",
    "pd.reset_option('display.width')\n",
    "pd.reset_option('display.max_colwidth')"
   ]
  },
  {
   "cell_type": "code",
   "execution_count": null,
   "id": "b0f74bb6-96bb-4906-90c7-9dbf343e2e60",
   "metadata": {
    "tags": []
   },
   "outputs": [],
   "source": []
  },
  {
   "cell_type": "code",
   "execution_count": null,
   "id": "9eb44d93-d211-412f-b0e1-963d0356f69d",
   "metadata": {
    "tags": []
   },
   "outputs": [],
   "source": []
  },
  {
   "cell_type": "code",
   "execution_count": null,
   "id": "3aac9e5a-20ef-4543-9ac8-4ceb6749ceda",
   "metadata": {},
   "outputs": [],
   "source": []
  }
 ],
 "metadata": {
  "kernelspec": {
   "display_name": "Python 3 (ipykernel)",
   "language": "python",
   "name": "python3"
  },
  "language_info": {
   "codemirror_mode": {
    "name": "ipython",
    "version": 3
   },
   "file_extension": ".py",
   "mimetype": "text/x-python",
   "name": "python",
   "nbconvert_exporter": "python",
   "pygments_lexer": "ipython3",
   "version": "3.10.0"
  }
 },
 "nbformat": 4,
 "nbformat_minor": 5
}
