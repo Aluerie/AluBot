{
 "cells": [
  {
   "cell_type": "markdown",
   "id": "cf42b65d-177d-4e75-bbd2-883989c4ec78",
   "metadata": {},
   "source": [
    "### Run the copy of our database functions"
   ]
  },
  {
   "cell_type": "code",
   "execution_count": null,
   "id": "a30c20f7-2e49-49e2-9b9a-5a93cb3fb9b1",
   "metadata": {},
   "outputs": [
    {
     "name": "stdout",
     "output_type": "stream",
     "text": [
      "The autoreload extension is already loaded. To reload it, use:\n",
      "  %reload_ext autoreload\n"
     ]
    }
   ],
   "source": [
    "%load_ext autoreload\n",
    "%autoreload 2"
   ]
  },
  {
   "cell_type": "markdown",
   "id": "078ca8c6-86b1-42ca-93e8-0a2f8ad203b6",
   "metadata": {},
   "source": [
    "| biginteger type of id      | autoincrement type of id |\n",
    "| ----------- | ----------- |\n",
    "| <pre>m = DiscordUser<br>e = DiscordEmote<br>g = DiscordGuilds<br>l = LeagueAccount<br>d = DotaAccount<br>a = AFKNote<br>s = mygamerdata</pre>      | <pre>r = RemindersNote<br>t = ToDoNote<br>w = WarningData<br>u = MuteData<br>c = ChannelsAssignmentData<br>sr = serverrules<br>rr = realrule<br>tg = tagsdb</pre>          |"
   ]
  },
  {
   "cell_type": "code",
   "execution_count": 1,
   "id": "022c28aa-ac8d-4d0e-b88e-c69a5e7b1c94",
   "metadata": {},
   "outputs": [],
   "source": [
    "# %run ./utils/database.py\n",
    "from utils import database as db\n",
    "import pandas as pd\n",
    "def get_df(dbclass):\n",
    "    return pd.read_sql_table(dbclass.__tablename__, db.engine, index_col='id')"
   ]
  },
  {
   "cell_type": "code",
   "execution_count": null,
   "id": "306c55c3-18f6-4bbc-8a86-05bbfc97cd40",
   "metadata": {},
   "outputs": [],
   "source": []
  },
  {
   "cell_type": "code",
   "execution_count": null,
   "id": "2fa2b6c4-d4f3-44c0-9867-934ce9f4b1ae",
   "metadata": {},
   "outputs": [],
   "source": []
  },
  {
   "cell_type": "markdown",
   "id": "57144734-57ff-4a17-b115-9546ef0f3102",
   "metadata": {},
   "source": [
    "### Now our draft things"
   ]
  },
  {
   "cell_type": "code",
   "execution_count": 31,
   "id": "386b5905-29f4-4886-a481-50f7f516e733",
   "metadata": {
    "tags": []
   },
   "outputs": [],
   "source": [
    "df = get_df(db.w)"
   ]
  },
  {
   "cell_type": "code",
   "execution_count": 6,
   "id": "5c432e06-4056-45d7-87ce-ebeff87ef0a1",
   "metadata": {},
   "outputs": [
    {
     "name": "stdout",
     "output_type": "stream",
     "text": [
      "1\n"
     ]
    }
   ],
   "source": [
    "print(sum(get_value(e, 869827100926951465, 'month_array')))"
   ]
  },
  {
   "cell_type": "code",
   "execution_count": null,
   "id": "a23b73fb-bc7a-4885-9bda-cec65a334c23",
   "metadata": {},
   "outputs": [],
   "source": [
    "\"\"\"\n",
    "for index, row in df.iterrows():\n",
    "    value = get_value(e, index, 'month_array')\n",
    "    df.loc[index, 'month_array'] = value\n",
    "\"\"\""
   ]
  },
  {
   "cell_type": "code",
   "execution_count": 7,
   "id": "b8757b07-37a0-4576-8267-cfd7a88a141f",
   "metadata": {},
   "outputs": [],
   "source": [
    "remove_row(e, 869827100926951465)"
   ]
  },
  {
   "cell_type": "code",
   "execution_count": 5,
   "id": "7a892c12-266b-492d-b9ad-7da2906e2d5d",
   "metadata": {},
   "outputs": [],
   "source": [
    "with db.session_scope() as ses:\n",
    "    for row in ses.query(db.sr):\n",
    "        row.id = 0"
   ]
  },
  {
   "cell_type": "code",
   "execution_count": 2,
   "id": "923e3c27-8f0a-4e56-851e-b1a402a99199",
   "metadata": {
    "tags": []
   },
   "outputs": [],
   "source": [
    "db.tg.__table__.drop(db.engine)"
   ]
  },
  {
   "cell_type": "code",
   "execution_count": 5,
   "id": "f3a39c67-b1ba-44d3-a1fb-2f90e0351cbb",
   "metadata": {
    "tags": []
   },
   "outputs": [],
   "source": [
    "def add_column(enginex, table_name, columnx):\n",
    "    column_name = columnx.compile(dialect=enginex.dialect)\n",
    "    column_type = columnx.type.compile(enginex.dialect)\n",
    "    #column_default = column.default.arg\n",
    "    enginex.execute(f'ALTER TABLE \"{table_name}\" ADD COLUMN {column_name} {column_type}') #DEFAULT #{column_default}')\n",
    "\n",
    "column = db.Column('can_make_tags', db.Boolean, default=True)\n",
    "add_column(db.engine, 'GuildMembers', column)"
   ]
  },
  {
   "cell_type": "code",
   "execution_count": null,
   "id": "b5f20316-22e8-453a-b611-2a5fe91c6c5c",
   "metadata": {},
   "outputs": [],
   "source": []
  },
  {
   "cell_type": "code",
   "execution_count": 11,
   "id": "522047e2-b6c7-40e9-ac97-6e9af61a6513",
   "metadata": {},
   "outputs": [],
   "source": [
    "def drop_column(enginex, table_name, column_name):\n",
    "    enginex.execute(f'ALTER TABLE \"{table_name}\" DROP COLUMN {column_name}')\n",
    "\n",
    "drop_column(engine, 'GuildMembers', 'name')"
   ]
  },
  {
   "cell_type": "code",
   "execution_count": null,
   "id": "f8336468-ff62-44a3-8444-13a5bcfcc2dc",
   "metadata": {},
   "outputs": [],
   "source": []
  },
  {
   "cell_type": "code",
   "execution_count": 13,
   "id": "92fc8e8c-272e-4fc8-b6f4-c35b4afb244d",
   "metadata": {
    "tags": []
   },
   "outputs": [],
   "source": [
    "# options to see the whole table \n",
    "pd.set_option('display.max_rows', None)\n",
    "pd.set_option('display.max_columns', None)\n",
    "pd.set_option('display.width', None)\n",
    "pd.set_option('display.max_colwidth', None)"
   ]
  },
  {
   "cell_type": "code",
   "execution_count": 10,
   "id": "190f3dd2-1a0e-4f7f-9fce-16960b2e2e5d",
   "metadata": {},
   "outputs": [],
   "source": [
    "# option to reset these things\n",
    "pd.reset_option('display.max_rows')\n",
    "pd.reset_option('display.max_columns')\n",
    "pd.reset_option('display.width')\n",
    "pd.reset_option('display.max_colwidth')"
   ]
  },
  {
   "cell_type": "code",
   "execution_count": null,
   "id": "b0f74bb6-96bb-4906-90c7-9dbf343e2e60",
   "metadata": {
    "tags": []
   },
   "outputs": [],
   "source": []
  },
  {
   "cell_type": "code",
   "execution_count": null,
   "id": "9eb44d93-d211-412f-b0e1-963d0356f69d",
   "metadata": {
    "tags": []
   },
   "outputs": [],
   "source": []
  },
  {
   "cell_type": "code",
   "execution_count": null,
   "id": "3aac9e5a-20ef-4543-9ac8-4ceb6749ceda",
   "metadata": {},
   "outputs": [],
   "source": []
  },
  {
   "cell_type": "code",
   "execution_count": null,
   "id": "f7530e01-41ac-4a50-b022-e8140ab87741",
   "metadata": {},
   "outputs": [],
   "source": []
  },
  {
   "cell_type": "code",
   "execution_count": 24,
   "id": "a54dce7c-b3e1-4944-b144-5be119ee37ec",
   "metadata": {},
   "outputs": [
    {
     "name": "stdout",
     "output_type": "stream",
     "text": [
      "0.3333333333333333\n",
      "0.1694915254237288\n",
      "0.23529411764705882\n",
      "0.3225806451612903\n"
     ]
    }
   ],
   "source": [
    "from difflib import SequenceMatcher\n",
    "\n",
    "textes = [\n",
    "  'hallo hello allo ello ell', \n",
    "  'Hallo Hello hello hello hello hello hello Agalo Hellao',\n",
    "  'HALLO HALLO HALLO HALLO HALLO',\n",
    "  'Hello HeLlA ALHO EHLA ELHA'\n",
    "]\n",
    "\n",
    "query_string = 'hello'\n",
    "\n",
    "def similar(a, b):\n",
    "    return SequenceMatcher(a=a.lower(), b=b.lower()).ratio()\n",
    "\n",
    "for i in textes:\n",
    "    s = similar(query_string, i)\n",
    "    print(s)\n",
    "    # print(sum(n for i,j,n in s.get_matching_blocks()) / float(len(query_string)))"
   ]
  },
  {
   "cell_type": "code",
   "execution_count": null,
   "id": "460bef0c-ea72-4378-a6d1-bc8c22f5d31f",
   "metadata": {},
   "outputs": [],
   "source": []
  },
  {
   "cell_type": "code",
   "execution_count": null,
   "id": "7adb65ef-2f74-4f15-9640-fe04dd48125a",
   "metadata": {},
   "outputs": [],
   "source": []
  },
  {
   "cell_type": "code",
   "execution_count": null,
   "id": "73dabcf0-8616-4613-8447-b03bf7d9df9c",
   "metadata": {},
   "outputs": [],
   "source": []
  },
  {
   "cell_type": "code",
   "execution_count": 19,
   "id": "9a1dba1d-596a-4a57-bcc3-cbba039ff5b8",
   "metadata": {},
   "outputs": [
    {
     "ename": "ValueError",
     "evalue": "invalid time provided",
     "output_type": "error",
     "traceback": [
      "\u001b[1;31m---------------------------------------------------------------------------\u001b[0m",
      "\u001b[1;31mValueError\u001b[0m                                Traceback (most recent call last)",
      "\u001b[1;32m~\\AppData\\Local\\Temp/ipykernel_15152/3062059222.py\u001b[0m in \u001b[0;36m<module>\u001b[1;34m\u001b[0m\n\u001b[0;32m     32\u001b[0m         \u001b[1;32mreturn\u001b[0m \u001b[0mcls\u001b[0m\u001b[1;33m(\u001b[0m\u001b[0margument\u001b[0m\u001b[1;33m)\u001b[0m\u001b[1;33m\u001b[0m\u001b[1;33m\u001b[0m\u001b[0m\n\u001b[0;32m     33\u001b[0m \u001b[1;33m\u001b[0m\u001b[0m\n\u001b[1;32m---> 34\u001b[1;33m \u001b[0mxd\u001b[0m \u001b[1;33m=\u001b[0m \u001b[0mShortTime\u001b[0m\u001b[1;33m(\u001b[0m\u001b[1;34m'12y'\u001b[0m\u001b[1;33m)\u001b[0m\u001b[1;33m\u001b[0m\u001b[1;33m\u001b[0m\u001b[0m\n\u001b[0m\u001b[0;32m     35\u001b[0m \u001b[0mxd\u001b[0m\u001b[1;33m.\u001b[0m\u001b[0mdt\u001b[0m\u001b[1;33m\u001b[0m\u001b[1;33m\u001b[0m\u001b[0m\n",
      "\u001b[1;32m~\\AppData\\Local\\Temp/ipykernel_15152/3062059222.py\u001b[0m in \u001b[0;36m__init__\u001b[1;34m(self, argument, now)\u001b[0m\n\u001b[0;32m     22\u001b[0m         \u001b[0mmatch\u001b[0m \u001b[1;33m=\u001b[0m \u001b[0mself\u001b[0m\u001b[1;33m.\u001b[0m\u001b[0mcompiled\u001b[0m\u001b[1;33m.\u001b[0m\u001b[0mfullmatch\u001b[0m\u001b[1;33m(\u001b[0m\u001b[0margument\u001b[0m\u001b[1;33m)\u001b[0m\u001b[1;33m\u001b[0m\u001b[1;33m\u001b[0m\u001b[0m\n\u001b[0;32m     23\u001b[0m         \u001b[1;32mif\u001b[0m \u001b[0mmatch\u001b[0m \u001b[1;32mis\u001b[0m \u001b[1;32mNone\u001b[0m \u001b[1;32mor\u001b[0m \u001b[1;32mnot\u001b[0m \u001b[0mmatch\u001b[0m\u001b[1;33m.\u001b[0m\u001b[0mgroup\u001b[0m\u001b[1;33m(\u001b[0m\u001b[1;36m0\u001b[0m\u001b[1;33m)\u001b[0m\u001b[1;33m:\u001b[0m\u001b[1;33m\u001b[0m\u001b[1;33m\u001b[0m\u001b[0m\n\u001b[1;32m---> 24\u001b[1;33m             \u001b[1;32mraise\u001b[0m \u001b[0mValueError\u001b[0m\u001b[1;33m(\u001b[0m\u001b[1;34m'invalid time provided'\u001b[0m\u001b[1;33m)\u001b[0m\u001b[1;33m\u001b[0m\u001b[1;33m\u001b[0m\u001b[0m\n\u001b[0m\u001b[0;32m     25\u001b[0m \u001b[1;33m\u001b[0m\u001b[0m\n\u001b[0;32m     26\u001b[0m         \u001b[0mdata\u001b[0m \u001b[1;33m=\u001b[0m \u001b[1;33m{\u001b[0m\u001b[0mk\u001b[0m\u001b[1;33m:\u001b[0m \u001b[0mint\u001b[0m\u001b[1;33m(\u001b[0m\u001b[0mv\u001b[0m\u001b[1;33m)\u001b[0m \u001b[1;32mfor\u001b[0m \u001b[0mk\u001b[0m\u001b[1;33m,\u001b[0m \u001b[0mv\u001b[0m \u001b[1;32min\u001b[0m \u001b[0mmatch\u001b[0m\u001b[1;33m.\u001b[0m\u001b[0mgroupdict\u001b[0m\u001b[1;33m(\u001b[0m\u001b[0mdefault\u001b[0m\u001b[1;33m=\u001b[0m\u001b[1;36m0\u001b[0m\u001b[1;33m)\u001b[0m\u001b[1;33m.\u001b[0m\u001b[0mitems\u001b[0m\u001b[1;33m(\u001b[0m\u001b[1;33m)\u001b[0m\u001b[1;33m}\u001b[0m\u001b[1;33m\u001b[0m\u001b[1;33m\u001b[0m\u001b[0m\n",
      "\u001b[1;31mValueError\u001b[0m: invalid time provided"
     ]
    }
   ],
   "source": [
    "import re\n",
    "from typing import Optional\n",
    "from typing_extensions import Self\n",
    "import datetime\n",
    "from dateutil.relativedelta import relativedelta\n",
    "\n",
    "class ShortTime:\n",
    "    compiled = re.compile(\n",
    "        \"\"\"\n",
    "           (?:(?P<years>[0-9])(?:years?|y))?             # e.g. 2y\n",
    "           (?:(?P<months>[0-9]{1,2})(?:months?|mo))?     # e.g. 2months\n",
    "           (?:(?P<weeks>[0-9]{1,4})(?:weeks?|w))?        # e.g. 10w\n",
    "           (?:(?P<days>[0-9]{1,5})(?:days?|d))?          # e.g. 14d\n",
    "           (?:(?P<hours>[0-9]{1,5})(?:hours?|h))?        # e.g. 12h\n",
    "           (?:(?P<minutes>[0-9]{1,5})(?:minutes?|m))?    # e.g. 10m\n",
    "           (?:(?P<seconds>[0-9]{1,5})(?:seconds?|s))?    # e.g. 15s\n",
    "        \"\"\",\n",
    "        re.VERBOSE,\n",
    "    )\n",
    "\n",
    "    def __init__(self, argument: str, *, now: Optional[datetime.datetime] = None):\n",
    "        match = self.compiled.fullmatch(argument)\n",
    "        if match is None or not match.group(0):\n",
    "            raise ValueError('invalid time provided')\n",
    "\n",
    "        data = {k: int(v) for k, v in match.groupdict(default=0).items()}\n",
    "        now = now or datetime.datetime.now(datetime.timezone.utc)\n",
    "        self.dt: datetime.datetime = now + relativedelta(**data)\n",
    "\n",
    "    @classmethod\n",
    "    async def convert(cls, argument: str) -> Self:\n",
    "        return cls(argument)\n",
    "    \n",
    "xd = ShortTime('1y')\n",
    "xd.dt"
   ]
  },
  {
   "cell_type": "code",
   "execution_count": 9,
   "id": "fa8b1f5c-4be2-4809-9993-814f4b24fd20",
   "metadata": {},
   "outputs": [
    {
     "name": "stdout",
     "output_type": "stream",
     "text": [
      "1\n",
      "11\n",
      "111\n",
      "1111\n",
      "11111\n",
      "111111\n",
      "1111111\n",
      "11111111\n",
      "111111111\n",
      "1111111111\n",
      "11111111111\n",
      "111111111111\n",
      "1111111111111\n",
      "11111111111111\n",
      "111111111111111\n"
     ]
    },
    {
     "ename": "OverflowError",
     "evalue": "days=1286008230; must have magnitude <= 999999999",
     "output_type": "error",
     "traceback": [
      "\u001b[1;31m---------------------------------------------------------------------------\u001b[0m",
      "\u001b[1;31mOverflowError\u001b[0m                             Traceback (most recent call last)",
      "\u001b[1;32m~\\AppData\\Local\\Temp/ipykernel_11364/221817863.py\u001b[0m in \u001b[0;36m<module>\u001b[1;34m\u001b[0m\n\u001b[0;32m      8\u001b[0m     \u001b[0mseconds\u001b[0m \u001b[1;33m=\u001b[0m \u001b[0mparse\u001b[0m\u001b[1;33m(\u001b[0m\u001b[0mstring\u001b[0m\u001b[1;33m)\u001b[0m\u001b[1;33m\u001b[0m\u001b[1;33m\u001b[0m\u001b[0m\n\u001b[0;32m      9\u001b[0m     \u001b[0mprint\u001b[0m\u001b[1;33m(\u001b[0m\u001b[0mseconds\u001b[0m\u001b[1;33m)\u001b[0m\u001b[1;33m\u001b[0m\u001b[1;33m\u001b[0m\u001b[0m\n\u001b[1;32m---> 10\u001b[1;33m     \u001b[0mdelta\u001b[0m \u001b[1;33m=\u001b[0m \u001b[0mtimedelta\u001b[0m\u001b[1;33m(\u001b[0m\u001b[0mseconds\u001b[0m\u001b[1;33m=\u001b[0m\u001b[0mseconds\u001b[0m\u001b[1;33m)\u001b[0m\u001b[1;33m\u001b[0m\u001b[1;33m\u001b[0m\u001b[0m\n\u001b[0m",
      "\u001b[1;31mOverflowError\u001b[0m: days=1286008230; must have magnitude <= 999999999"
     ]
    }
   ],
   "source": [
    "from pytimeparse import parse\n",
    "from datetime import timedelta\n",
    "\n",
    "string = ' seconds'\n",
    "while(True):\n",
    "    string = '1' + string\n",
    "    print(len(string), end='\\r')\n",
    "    seconds = parse(string)\n",
    "    print(seconds)\n",
    "    delta = timedelta(seconds=seconds)"
   ]
  },
  {
   "cell_type": "code",
   "execution_count": null,
   "id": "da4fef6d-a861-407f-b4ce-0c65c711d37f",
   "metadata": {},
   "outputs": [],
   "source": []
  }
 ],
 "metadata": {
  "kernelspec": {
   "display_name": "Python 3 (ipykernel)",
   "language": "python",
   "name": "python3"
  },
  "language_info": {
   "codemirror_mode": {
    "name": "ipython",
    "version": 3
   },
   "file_extension": ".py",
   "mimetype": "text/x-python",
   "name": "python",
   "nbconvert_exporter": "python",
   "pygments_lexer": "ipython3",
   "version": "3.10.0"
  }
 },
 "nbformat": 4,
 "nbformat_minor": 5
}
